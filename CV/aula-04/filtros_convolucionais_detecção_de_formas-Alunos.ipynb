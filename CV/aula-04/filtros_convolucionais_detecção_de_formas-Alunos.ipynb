{
 "cells": [
  {
   "cell_type": "markdown",
   "id": "f64ee648",
   "metadata": {},
   "source": [
    "<h1>\n",
    "    <center>\n",
    "        Processing Images with OpenCV"
   ]
  },
  {
   "cell_type": "markdown",
   "id": "a6a7f948",
   "metadata": {},
   "source": [
    "In this notebook the topics presented are:\n",
    "* Converting images between differente color models\n",
    "* Understanding the importance of frequencies and the Fourier transform in image processing\n",
    "* Applying high-pass filters (HPFs), low-pass filters (LPFs), edge detection filters, and custom convolution filters\n",
    "* Detecting and analyzing contours, lines, circles, and other geometric shapes\n",
    "* Writing classes and functions that encapsulate the implementation of a filter"
   ]
  },
  {
   "cell_type": "markdown",
   "id": "3d1b1c0f",
   "metadata": {},
   "source": [
    "# Converting images between different color models"
   ]
  },
  {
   "cell_type": "markdown",
   "id": "310fb8cd",
   "metadata": {},
   "source": [
    "Open CV implements literally hundreds of formulas related to the conversion of color models. From these hundreds of templates, we will use four types of color templates: grayscale, BGR, RGB and hue saturation value (HSV).\n",
    "\n",
    "* **Grayscale**: is a model that reduces color information by translating it into shades of gray or brightness\n",
    "* **BGR**: is the blue-green-red color model, in which each pixel has a triplet of values representing the blue, green, and red components or channels of the pixel's color.\n",
    "* **RGB**: is the red-green-blue color model, in which each pixel has a triplet of values representing the blue, green, and red components or channels of the pixel's color.\n",
    "* **HSV**: model uses a different triplet of channels. Hue is the color's tone,  saturation is its intensity, and value represents its brightness."
   ]
  },
  {
   "cell_type": "markdown",
   "id": "eb1118ab",
   "metadata": {},
   "source": [
    "# Light is not paint"
   ]
  },
  {
   "cell_type": "markdown",
   "id": "d436b787",
   "metadata": {},
   "source": [
    "* Paint is subtratctive\n",
    "* Light is additive"
   ]
  },
  {
   "cell_type": "markdown",
   "id": "ea97e208",
   "metadata": {},
   "source": [
    "# HPF"
   ]
  },
  {
   "cell_type": "markdown",
   "id": "22c65690",
   "metadata": {},
   "source": [
    "An HPF is a filter that examines a region of an image and boosts the intensity of certain pixels based on the difference in the intensity of the surrounding pixels. This kernel is applied in edge detection.\n",
    "\n",
    "Take, for example, the following kernel:\n",
    "\n",
    "\\begin{equation}\n",
    "\\left[\\begin{matrix}\n",
    "0&-0.25 & 0 \\\\\n",
    "-0.25& 1 & -0.25 \\\\\n",
    "0 & -0.25 & 0\n",
    "\\end{matrix}\\right]\n",
    "\\end{equation}"
   ]
  },
  {
   "cell_type": "code",
   "execution_count": 7,
   "id": "073d6af7",
   "metadata": {},
   "outputs": [],
   "source": [
    "import cv2\n",
    "import numpy as np\n",
    "from scipy import ndimage\n",
    "\n",
    "kernel_3x3 = np.array([[-1, -1, -1],\n",
    "                       [-1,  8, -1],\n",
    "                       [-1, -1, -1]])\n",
    "\n",
    "kernel_5x5 = np.array([[-1, -1, -1, -1, -1],\n",
    "                       [-1,  1,  2,  1, -1],\n",
    "                       [-1,  2,  4,  2, -1],\n",
    "                       [-1,  1,  2,  1, -1],\n",
    "                       [-1, -1, -1, -1, -1]])\n",
    "\n",
    "img = cv2.imread(\"./mr incredible.jpg\", 0)\n",
    "\n",
    "k3 = ndimage.convolve(img, kernel_3x3)\n",
    "k5 = ndimage.convolve(img, kernel_5x5)\n",
    "\n",
    "blurred = cv2.GaussianBlur(img, (17,17), 0) # Filtro gaussiano utilizado para suavizar a imagem\n",
    "g_hpf = img - blurred\n",
    "\n",
    "cv2.imshow(\"3x3\", k3)\n",
    "cv2.imshow(\"5x5\", k5)\n",
    "cv2.imshow(\"blurred\", blurred)\n",
    "cv2.imshow(\"g_hpf\", g_hpf)\n",
    "cv2.waitKey()\n",
    "cv2.destroyAllWindows()"
   ]
  },
  {
   "cell_type": "markdown",
   "id": "c80f4248",
   "metadata": {},
   "source": [
    "# Creating modules"
   ]
  },
  {
   "cell_type": "markdown",
   "id": "cc5299f5",
   "metadata": {},
   "source": [
    "In this notebook we will create a new module to add a filter to the cameo application. Let's create a file called `filters.py` in the same directory as `cameo.py`. We need the following import statements in filters.py:\n",
    "```Python\n",
    "import cv2\n",
    "import numpy\n",
    "import utils\n",
    "```"
   ]
  },
  {
   "cell_type": "markdown",
   "id": "b3942bd0",
   "metadata": {},
   "source": [
    "Let's also create a file called `utils.py` in the same directory. It should contain the following import statements:\n",
    "```Python\n",
    "import cv2\n",
    "import numpy\n",
    "import scipy.interpolate\n",
    "```"
   ]
  },
  {
   "cell_type": "markdown",
   "id": "bf7f20be",
   "metadata": {},
   "source": [
    "We will be adding filter functions and classes to `filters.py`, while more general-purpose math functions will go in `utils.py`."
   ]
  },
  {
   "cell_type": "markdown",
   "id": "ef170111",
   "metadata": {},
   "source": [
    "# Edge detection"
   ]
  },
  {
   "cell_type": "markdown",
   "id": "bb5ca5ba",
   "metadata": {},
   "source": [
    "The OpenCV provides many edge-finding filters, including `Laplacian`, `Sobel`, and `Scharr`. However, these filters are sensitive to noise. Then blur filters can be used to reduce this noise.\n",
    "\n",
    "The OpenCV has blurring filter as`blur`, `medianBlur`, and `GaussianBlur`. The arguments for the edge-finding and blurring filters vary but always include ksize, an odd whole number that represents the width and height (in pixels) of a filter's kernel.\n",
    "\n",
    "From edge detection:\n",
    "1. The medianBlur is utilized\n",
    "2. The BGR image is converted for grayscale image\n",
    "3. The grayscale image normalized\n",
    "4. The Laplacian filter is applied\n",
    "5. The inverse normalization is applied\n",
    "\n",
    "The implementation on `filters.py`\n",
    "\n",
    "```Python\n",
    "def strokeEdges(src, dst, blurKsize=7, edgeKsize=5):\n",
    "    if blurKsize >= 3:\n",
    "        blurredSrc = cv2.medianBlur(src, blurKsize)\n",
    "        graySrc = cv2.cvtColor(blurredSrc, cv2.COLOR_BGR2GRAY)\n",
    "    else:\n",
    "        graySrc = cv2.cvtColor(src, cv2.COLOR_BGR2GRAY)\n",
    "    cv2.Laplacian(graySrc, cv2.CV_8U, graySrc, ksize = edgeKsize)\n",
    "    normalizedInverseAlpha = (1.0 / 255) * (255 - graySrc) # Utilized for multiply it with the source image to darken the edges\n",
    "    channels = cv2.split(src)\n",
    "    for channel in channels:\n",
    "        channel[:] = channel * normalizedInverseAlpha\n",
    "    cv2.merge(channels, dst)\n",
    "\n",
    "```"
   ]
  },
  {
   "cell_type": "markdown",
   "id": "5c67d790",
   "metadata": {},
   "source": [
    "# Custom kernels – getting convoluted"
   ]
  },
  {
   "cell_type": "markdown",
   "id": "c901f226",
   "metadata": {},
   "source": [
    "As we have just seen, many of OpenCV's predefined filters use a kernel. Remember that a kernel is a set of weights that determines how each output pixel is calculated from a neighborhood of input pixels. Another term for a kernel is a convolution matrix. It mixes up or convolves the pixels in a region. Similarly, a kernel-based filter may be called a convolution filter.\n",
    "\n",
    "OpenCV provides a very versatile `filter2D()` function, which applies any kernel or convolution matrix that we specify.\n",
    "\n",
    "\n",
    "In our application we can implement  one class, `VConvolutionFilter`, will represent a convolution filter in general. A subclass, `SharpenFilter`, will represent our sharpening filter specifically. Let's edit filters.py so that we can implement these two new classes, as follows:\n",
    "\n",
    "```Python\n",
    "\n",
    "class VConvolutionFilter(object):\n",
    "    \"\"\"A filter that applies a convolution to V (or all of BGR).\"\"\"\n",
    "\n",
    "    def __init__(self, kernel):\n",
    "        self._kernel = kernel\n",
    "\n",
    "    def apply(self, src, dst):\n",
    "        \"\"\"Apply the filter with a BGR or gray source/destination.\"\"\"\n",
    "        cv2.filter2D(src, -1, self._kernel, dst)\n",
    "\n",
    "class SharpenFilter(VConvolutionFilter):\n",
    "    \"\"\"A sharpen filter with a 1-pixel radius.\"\"\"\n",
    "\n",
    "    def __init__(self):\n",
    "        kernel = numpy.array([[-1, -1, -1],\n",
    "                              [-1,  9, -1],\n",
    "                              [-1, -1, -1]])\n",
    "        VConvolutionFilter.__init__(self, kernel)\n",
    "```"
   ]
  },
  {
   "cell_type": "markdown",
   "id": "8cdcb85f",
   "metadata": {},
   "source": [
    "Edge detection filter to `filters.py`\n",
    "```Python\n",
    "class FindEdgesFilter(VConvolutionFilter):\n",
    "    \"\"\"An edge-finding filter with a 1-pixel radius.\"\"\"\n",
    "\n",
    "    def __init__(self):\n",
    "        kernel = numpy.array([[-1, -1, -1],\n",
    "                              [-1,  8, -1],\n",
    "                              [-1, -1, -1]])\n",
    "        VConvolutionFilter.__init__(self, kernel)\n",
    "```"
   ]
  },
  {
   "cell_type": "markdown",
   "id": "d8b991ba",
   "metadata": {},
   "source": [
    "Blur filter to `filters.py`\n",
    "```Python\n",
    "class BlurFilter(VConvolutionFilter):\n",
    "    \"\"\"A blur filter with a 2-pixel radius.\"\"\"\n",
    "\n",
    "    def __init__(self):\n",
    "        kernel = numpy.array([[0.04, 0.04, 0.04, 0.04, 0.04],\n",
    "                              [0.04, 0.04, 0.04, 0.04, 0.04],\n",
    "                              [0.04, 0.04, 0.04, 0.04, 0.04],\n",
    "                              [0.04, 0.04, 0.04, 0.04, 0.04],\n",
    "                              [0.04, 0.04, 0.04, 0.04, 0.04]])\n",
    "        VConvolutionFilter.__init__(self, kernel)\n",
    "\n",
    "```"
   ]
  },
  {
   "cell_type": "markdown",
   "id": "3fea1a71",
   "metadata": {},
   "source": [
    "Our sharpening, edge detection, and blur filters use kernels that are highly symmetric. Sometimes, though, kernels with less symmetry produce an interesting effect. Let's consider a kernel that blurs on one side (with positive weights) and sharpens on the other (with negative weights). It will produce a ridged or embossed effect. Here is an implementation that we can add to `filters.py`:\n",
    "\n",
    "```Python\n",
    "class EmbossFilter(VConvolutionFilter):\n",
    "    \"\"\"An emboss filter with a 1-pixel radius.\"\"\"\n",
    "\n",
    "    def __init__(self):\n",
    "        kernel = numpy.array([[-2, -1, 0],\n",
    "                              [-1,  1, 1],\n",
    "                              [ 0,  1, 2]])\n",
    "        VConvolutionFilter.__init__(self, kernel)\n",
    "```"
   ]
  },
  {
   "cell_type": "markdown",
   "id": "dfb9d0aa",
   "metadata": {},
   "source": [
    "# Modifying the application"
   ]
  },
  {
   "cell_type": "markdown",
   "id": "7dda643e",
   "metadata": {},
   "source": [
    "Now that we have high-level functions and classes for several filters, it is trivial to apply any of them to the captured frames in Cameo. Let's edit cameo.py and add the lines that appear in bold in the following excerpts. First, we need to add our filters module to our list of imports, as follows:\n",
    "```Python\n",
    "import cv2\n",
    "import filters\n",
    "from managers import WindowManager, CaptureManager\n",
    "```"
   ]
  },
  {
   "cell_type": "markdown",
   "id": "230bb3ca",
   "metadata": {},
   "source": [
    "We need to modify the run method in order to apply our choice of filters. Refer to\n",
    "the following example:\n",
    "```Python\n",
    "def run(self):\n",
    "        \"\"\"Run the main loop.\"\"\"\n",
    "        self._windowManager.createWindow()\n",
    "        while self._windowManager.isWindowCreated:\n",
    "            self._captureManager.enterFrame()\n",
    "            frame = self._captureManager.frame\n",
    "\n",
    "            if frame is not None:\n",
    "                filters.strokeEdges(frame, frame)\n",
    "\n",
    "            self._captureManager.exitFrame()\n",
    "            self._windowManager.processEvents()\n",
    "```"
   ]
  },
  {
   "cell_type": "markdown",
   "id": "eae9b191",
   "metadata": {},
   "source": [
    "# Implemented Class"
   ]
  },
  {
   "cell_type": "code",
   "execution_count": 8,
   "id": "44970ccf",
   "metadata": {},
   "outputs": [],
   "source": [
    "import cameo\n",
    "\n",
    "c = cameo.Cameo()\n",
    "c.run()"
   ]
  },
  {
   "cell_type": "code",
   "execution_count": null,
   "id": "c61c70cc",
   "metadata": {},
   "outputs": [],
   "source": []
  },
  {
   "cell_type": "code",
   "execution_count": null,
   "id": "406a674c",
   "metadata": {},
   "outputs": [],
   "source": []
  },
  {
   "cell_type": "markdown",
   "id": "18a87522",
   "metadata": {},
   "source": [
    "# Edge detection with Canny"
   ]
  },
  {
   "cell_type": "markdown",
   "id": "f51e2804",
   "metadata": {},
   "source": [
    "OpenCV offers a handy function called Canny (after the algorithm's inventor, John F.\n",
    "Canny), which is very popular not only because of its effectiveness, but also because of the\n",
    "simplicity of its implementation in an OpenCV program since it is a one-liner. Add the class `CannyFilter` in `filters.py`:\n",
    "```Python\n",
    "class CannyFilter():\n",
    "    def apply(self, src, dst):\n",
    "        \"\"\"Apply the filter with Canny filter.\"\"\"\n",
    "        channels = cv2.split(src)\n",
    "        canny = cv2.Canny(src, 75, 200)\n",
    "        for channel in channels:\n",
    "        \tchannel[:] = canny\n",
    "        cv2.merge(channels,dst)\n",
    "```"
   ]
  },
  {
   "cell_type": "markdown",
   "id": "3c70fc03",
   "metadata": {},
   "source": [
    "Add the atribute `self.filter` and method `run_filter` for test of filters.\n",
    "* Atribute\n",
    "```Python\n",
    "    def __init__(self):\n",
    "        self._windowManager = WindowManager('Cameo',\n",
    "                                            self.onKeypress)\n",
    "        self._captureManager = CaptureManager(\n",
    "            cv2.VideoCapture(0), self._windowManager, True)\n",
    "        self.filter = filters.CannyFilter()\n",
    "```\n",
    "* method\n",
    "\n",
    "```Python\n",
    "    def run_filter(self):\n",
    "        \"\"\"Run the main loop.\"\"\"\n",
    "        self._windowManager.createWindow()\n",
    "        while self._windowManager.isWindowCreated:\n",
    "            self._captureManager.enterFrame()\n",
    "            frame = self._captureManager.frame\n",
    "\n",
    "            if frame is not None:\n",
    "                self.filter.apply(frame, frame)\n",
    "\n",
    "            self._captureManager.exitFrame()\n",
    "            self._windowManager.processEvents()\n",
    "```"
   ]
  },
  {
   "cell_type": "markdown",
   "id": "8543c332",
   "metadata": {},
   "source": [
    "# Test Canny"
   ]
  },
  {
   "cell_type": "markdown",
   "id": "d3ec8684",
   "metadata": {},
   "source": [
    "## Import"
   ]
  },
  {
   "cell_type": "code",
   "execution_count": 9,
   "id": "43b4c1d0",
   "metadata": {},
   "outputs": [],
   "source": [
    "import cameo\n",
    "from filters import BlurFilter\n",
    "\n",
    "c1 = cameo.Cameo()\n",
    "c1.filter = BlurFilter()\n",
    "c1.run_filter()"
   ]
  },
  {
   "cell_type": "code",
   "execution_count": null,
   "id": "0a80ec2e",
   "metadata": {},
   "outputs": [],
   "source": []
  },
  {
   "cell_type": "markdown",
   "id": "400b83e8",
   "metadata": {},
   "source": [
    "# Test all filters"
   ]
  },
  {
   "cell_type": "markdown",
   "id": "562cc6bf",
   "metadata": {},
   "source": [
    "## SharpenFilter"
   ]
  },
  {
   "cell_type": "markdown",
   "id": "aeb9714c",
   "metadata": {},
   "source": [
    "Sharpen filter in image processing improves spatial resolution by enhancing object boundaries but at the cost of image noise:\n",
    "*        i) Highlight fine detail.\n",
    "*        ii) Enhance detail that has been blurred.\n",
    "```Python\n",
    "class SharpenFilter(VConvolutionFilter):\n",
    "    \"\"\"A sharpen filter with a 1-pixel radius.\"\"\"\n",
    "\n",
    "    def __init__(self):\n",
    "        kernel = numpy.array([[-1, -1, -1],\n",
    "                              [-1,  9, -1],\n",
    "                              [-1, -1, -1]])\n",
    "        VConvolutionFilter.__init__(self, kernel)\n",
    "```"
   ]
  },
  {
   "cell_type": "code",
   "execution_count": 10,
   "id": "d08a1f87",
   "metadata": {},
   "outputs": [],
   "source": [
    "from filters import SharpenFilter\n",
    "\n",
    "c1 = cameo.Cameo()\n",
    "c1.filter = SharpenFilter()\n",
    "c1.run()"
   ]
  },
  {
   "cell_type": "markdown",
   "id": "8018ede8",
   "metadata": {},
   "source": [
    "## FindEdgesFilter"
   ]
  },
  {
   "cell_type": "markdown",
   "id": "8370b492",
   "metadata": {},
   "source": [
    "Accentuates the borders of the image\n",
    "```Python\n",
    "class FindEdgesFilter(VConvolutionFilter):\n",
    "    \"\"\"An edge-finding filter with a 1-pixel radius.\"\"\"\n",
    "\n",
    "    def __init__(self):\n",
    "        kernel = numpy.array([[-1, -1, -1],\n",
    "                              [-1,  8, -1],\n",
    "                              [-1, -1, -1]])\n",
    "        VConvolutionFilter.__init__(self, kernel)\n",
    "```"
   ]
  },
  {
   "cell_type": "code",
   "execution_count": 11,
   "id": "dec7c59e",
   "metadata": {},
   "outputs": [],
   "source": [
    "from filters import FindEdgesFilter\n",
    "\n",
    "c1 = cameo.Cameo()\n",
    "c1.filter = FindEdgesFilter()\n",
    "c1.run()"
   ]
  },
  {
   "cell_type": "markdown",
   "id": "3e3361ca",
   "metadata": {},
   "source": [
    "## BlurFilter"
   ]
  },
  {
   "cell_type": "markdown",
   "id": "802d8899",
   "metadata": {},
   "source": [
    "Image processing, a Gaussian blur (also known as Gaussian smoothing) is the result of blurring an image by a Gaussian function (named after mathematician and scientist Carl Friedrich Gauss). \n",
    "```Python\n",
    "    \"\"\"A blur filter with a 2-pixel radius.\"\"\"\n",
    "\n",
    "    def __init__(self):\n",
    "        kernel = numpy.array([[0.04, 0.04, 0.04, 0.04, 0.04],\n",
    "                              [0.04, 0.04, 0.04, 0.04, 0.04],\n",
    "                              [0.04, 0.04, 0.04, 0.04, 0.04],\n",
    "                              [0.04, 0.04, 0.04, 0.04, 0.04],\n",
    "                              [0.04, 0.04, 0.04, 0.04, 0.04]])\n",
    "        VConvolutionFilter.__init__(self, kernel)\n",
    "```"
   ]
  },
  {
   "cell_type": "code",
   "execution_count": 12,
   "id": "b2d9807d",
   "metadata": {},
   "outputs": [],
   "source": [
    "from filters import BlurFilter\n",
    "\n",
    "c1 = cameo.Cameo()\n",
    "c1.filter = BlurFilter()\n",
    "c1.run_filter()"
   ]
  },
  {
   "cell_type": "markdown",
   "id": "fcc7f3b7",
   "metadata": {},
   "source": [
    "## EmbossFilter"
   ]
  },
  {
   "cell_type": "markdown",
   "id": "999955f6",
   "metadata": {},
   "source": [
    "This filter stamps and carves the active layer or selection, giving it relief with bumps and hollows. Bright areas are raised and dark ones are carved. You can vary the lighting. \n",
    "```Python\n",
    "class EmbossFilter(VConvolutionFilter):\n",
    "    \"\"\"An emboss filter with a 1-pixel radius.\"\"\"\n",
    "\n",
    "    def __init__(self):\n",
    "        kernel = numpy.array([[-2, -1, 0],\n",
    "                              [-1,  1, 1],\n",
    "                              [ 0,  1, 2]])\n",
    "        VConvolutionFilter.__init__(self, kernel)\n",
    "```"
   ]
  },
  {
   "cell_type": "code",
   "execution_count": 13,
   "id": "9027bc31",
   "metadata": {},
   "outputs": [],
   "source": [
    "from filters import EmbossFilter\n",
    "\n",
    "c1 = cameo.Cameo()\n",
    "c1.filter = EmbossFilter()\n",
    "c1.run()"
   ]
  },
  {
   "cell_type": "markdown",
   "id": "a2125e9e",
   "metadata": {},
   "source": [
    "# Contour detection"
   ]
  },
  {
   "cell_type": "markdown",
   "id": "4068440c",
   "metadata": {},
   "source": [
    "A vital task in computer vision is contour detection. We want to detect contours or outlines of subjects contained in an image or video frame, not only as an end in itself but also as a step toward other operations. These operations are, namely, computing bounding polygons, approximating shapes, and generally calculating regions of interest (ROIs). Example of ROI.\n",
    "```Python\n",
    "import cv2\n",
    "import numpy as np\n",
    "\n",
    "img = np.zeros((200, 200), dtype=np.uint8)\n",
    "img[50:150, 50:150] = 255\n",
    "\n",
    "ret, thresh = cv2.threshold(img, 127, 255, 0)\n",
    "contours, hierarchy = cv2.findContours(thresh, cv2.RETR_TREE,\n",
    "                                       cv2.CHAIN_APPROX_SIMPLE)\n",
    "color = cv2.cvtColor(img, cv2.COLOR_GRAY2BGR)\n",
    "img = cv2.drawContours(color, contours, -1, (0,255,0), 2)\n",
    "cv2.imshow(\"contours\", color)\n",
    "cv2.waitKey()\n",
    "cv2.destroyAllWindows()\n",
    "```"
   ]
  },
  {
   "cell_type": "code",
   "execution_count": 14,
   "id": "a61fac63",
   "metadata": {},
   "outputs": [],
   "source": [
    "import cv2\n",
    "import numpy as np\n",
    "\n",
    "img = np.zeros((200, 200), dtype=np.uint8)\n",
    "img[50:150, 50:150] = 255\n",
    "\n",
    "ret, thresh = cv2.threshold(img, 127, 255, 0)\n",
    "contours, hierarchy = cv2.findContours(thresh, cv2.RETR_TREE,\n",
    "                                       cv2.CHAIN_APPROX_SIMPLE)\n",
    "color = cv2.cvtColor(img, cv2.COLOR_GRAY2BGR)\n",
    "img = cv2.drawContours(color, contours, -1, (0,255,0), 2)\n",
    "cv2.imshow(\"contours\", color)\n",
    "cv2.waitKey()\n",
    "cv2.destroyAllWindows()"
   ]
  },
  {
   "cell_type": "markdown",
   "id": "d0a9ac32",
   "metadata": {},
   "source": [
    "# Bounding boc, minimu area rectangle, and minimum enclosing circle"
   ]
  },
  {
   "cell_type": "markdown",
   "id": "a16eff26",
   "metadata": {},
   "source": [
    "Finding the contours of a square is a simple task; irregular, skewed, and rotated shapes bring out the full potential of OpenCV's cv2.findContours function. Let's take a look at the following image:"
   ]
  },
  {
   "attachments": {
    "image.png": {
     "image/png": "[encoded data removed]"
    }
   },
   "cell_type": "markdown",
   "id": "4bd3940c",
   "metadata": {},
   "source": [
    "![image.png](attachment:image.png)"
   ]
  },
  {
   "cell_type": "markdown",
   "id": "84d6e3cb",
   "metadata": {},
   "source": [
    "First, the following code reads an image from a file, converts it\n",
    "into grayscale, applies a threshold to the grayscale image, and finds the contours in the\n",
    "thresholded image:\n",
    "\n",
    "```Python\n",
    "import cv2\n",
    "import numpy as np\n",
    "\n",
    "OPENCV_MAJOR_VERSION = int(cv2.__version__.split('.')[0])\n",
    "\n",
    "img = cv2.pyrDown(cv2.imread(\"hammer.jpg\", cv2.IMREAD_UNCHANGED))\n",
    "\n",
    "ret, thresh = cv2.threshold(cv2.cvtColor(img, cv2.COLOR_BGR2GRAY),\n",
    "                            127, 255, cv2.THRESH_BINARY)\n",
    "\n",
    "if OPENCV_MAJOR_VERSION >= 4:\n",
    "    # OpenCV 4 or a later version is being used.\n",
    "    contours, hier = cv2.findContours(thresh, cv2.RETR_EXTERNAL,\n",
    "                                      cv2.CHAIN_APPROX_SIMPLE)\n",
    "else:\n",
    "    # OpenCV 3 or an earlier version is being used.\n",
    "    # cv2.findContours has an extra return value.\n",
    "    # The extra return value is the thresholded image, which is\n",
    "    # unchanged, so we can ignore it.\n",
    "    _, contours, hier = cv2.findContours(thresh, cv2.RETR_EXTERNAL,\n",
    "                                         cv2.CHAIN_APPROX_SIMPLE)\n",
    "```"
   ]
  },
  {
   "cell_type": "code",
   "execution_count": 15,
   "id": "5428f122",
   "metadata": {},
   "outputs": [],
   "source": [
    "import cv2\n",
    "import numpy as np\n",
    "\n",
    "OPENCV_MAJOR_VERSION = int(cv2.__version__.split('.')[0])\n",
    "\n",
    "img = cv2.pyrDown(cv2.imread(\"./pingu.png\", cv2.IMREAD_UNCHANGED))\n",
    "\n",
    "ret, thresh = cv2.threshold(cv2.cvtColor(img, cv2.COLOR_BGR2GRAY),\n",
    "                            127, 255, cv2.THRESH_BINARY)\n",
    "\n",
    "if OPENCV_MAJOR_VERSION >= 4:\n",
    "    # OpenCV 4 or a later version is being used.\n",
    "    contours, hier = cv2.findContours(thresh, cv2.RETR_EXTERNAL,\n",
    "                                      cv2.CHAIN_APPROX_SIMPLE)\n",
    "else:\n",
    "    # OpenCV 3 or an earlier version is being used.\n",
    "    # cv2.findContours has an extra return value.\n",
    "    # The extra return value is the thresholded image, which is\n",
    "    # unchanged, so we can ignore it.\n",
    "    _, contours, hier = cv2.findContours(thresh, cv2.RETR_EXTERNAL,\n",
    "                                         cv2.CHAIN_APPROX_SIMPLE)"
   ]
  },
  {
   "cell_type": "markdown",
   "id": "68195b49",
   "metadata": {},
   "source": [
    "Now, for each contour, we can find and draw the bounding box, the minimum enclosing\n",
    "rectangle, and the minimum enclosing circle, as shown in the following code:\n",
    "```Python\n",
    "for c in contours:\n",
    "    # find bounding box coordinates\n",
    "    x, y, w, h = cv2.boundingRect(c)\n",
    "    cv2.rectangle(img, (x,y), (x+w, y+h), (0, 255, 0), 2)\n",
    "\n",
    "    # find minimum area\n",
    "    rect = cv2.minAreaRect(c)\n",
    "    # calculate coordinates of the minimum area rectangle\n",
    "    box = cv2.boxPoints(rect)\n",
    "    # normalize coordinates to integers\n",
    "    box = np.int0(box)\n",
    "    # draw contours\n",
    "    cv2.drawContours(img, [box], 0, (0,0, 255), 3)\n",
    "\n",
    "    # calculate center and radius of minimum enclosing circle\n",
    "    (x, y), radius = cv2.minEnclosingCircle(c)\n",
    "    # cast to integers\n",
    "    center = (int(x), int(y))\n",
    "    radius = int(radius)\n",
    "    # draw the circle\n",
    "    img = cv2.circle(img, center, radius, (0, 255, 0), 2)\n",
    "```"
   ]
  },
  {
   "cell_type": "code",
   "execution_count": 16,
   "id": "2f529d4a",
   "metadata": {},
   "outputs": [],
   "source": [
    "for c in contours:\n",
    "    # find bounding box coordinates\n",
    "    x, y, w, h = cv2.boundingRect(c)\n",
    "    cv2.rectangle(img, (x,y), (x+w, y+h), (0, 255, 0), 2)\n",
    "\n",
    "    # find minimum area\n",
    "    rect = cv2.minAreaRect(c)\n",
    "    # calculate coordinates of the minimum area rectangle\n",
    "    box = cv2.boxPoints(rect)\n",
    "    # normalize coordinates to integers\n",
    "    box = np.int0(box)\n",
    "    # draw contours\n",
    "    cv2.drawContours(img, [box], 0, (0,0, 255), 3)\n",
    "\n",
    "    # calculate center and radius of minimum enclosing circle\n",
    "    (x, y), radius = cv2.minEnclosingCircle(c)\n",
    "    # cast to integers\n",
    "    center = (int(x), int(y))\n",
    "    radius = int(radius)\n",
    "    # draw the circle\n",
    "    img = cv2.circle(img, center, radius, (0, 255, 0), 2)"
   ]
  },
  {
   "cell_type": "markdown",
   "id": "454ffdd2",
   "metadata": {},
   "source": [
    "Finally, we can use the following code to draw the contours and show the image in a window until the user presses a key:"
   ]
  },
  {
   "cell_type": "markdown",
   "id": "f2ff91cb",
   "metadata": {},
   "source": [
    "```Python\n",
    "cv2.drawContours(img, contours, -1, (255, 0, 0), 1)\n",
    "cv2.imshow(\"contours\", img)\n",
    "\n",
    "cv2.waitKey()\n",
    "cv2.destroyAllWindows()\n",
    "```"
   ]
  },
  {
   "cell_type": "code",
   "execution_count": 23,
   "id": "6d8846f5",
   "metadata": {},
   "outputs": [],
   "source": [
    "cv2.drawContours(img, contours, -1, (255, 0, 0), 1)\n",
    "cv2.imshow(\"contours\", img)\n",
    "\n",
    "cv2.waitKey()\n",
    "cv2.destroyAllWindows()"
   ]
  },
  {
   "cell_type": "markdown",
   "id": "3a3623c5",
   "metadata": {},
   "source": [
    "# Convex contours and the Douglas-Peucker algorithm"
   ]
  },
  {
   "cell_type": "markdown",
   "id": "03b9e592",
   "metadata": {},
   "source": [
    "When working with contours, we may encounter subjects with diverse shapes, including\n",
    "convex ones. A convex shape is one where there are no two points within this shape whose\n",
    "connecting line goes outside the perimeter of the shape itself.\n",
    "The first facility that OpenCV offers to calculate the approximate bounding polygon of a\n",
    "shape is cv2.approxPolyDP. This function takes three parameters:\n",
    "\n",
    "* A contour.\n",
    "* An epsilon value representing the maximum discrepancy between the original contour and the approximated polygon (the lower the value, the closer the approximated value will be to the original contour).\n",
    "* A Boolean flag. If it is True, it signifies that the polygon is closed."
   ]
  },
  {
   "cell_type": "markdown",
   "id": "91a8530e",
   "metadata": {},
   "source": [
    "Now that we know what an epsilon is, we need to obtain contour perimeter information as\n",
    "a reference value. This can be obtained with the `cv2.arcLength` function of OpenCV:\n",
    "\n",
    "```Python\n",
    "epsilon = 0.01 * cv2.arcLength(cnt, True)\n",
    "approx = cv2.approxPolyDP(cnt, epsilon, True)\n",
    "```"
   ]
  },
  {
   "cell_type": "markdown",
   "id": "d352dd76",
   "metadata": {},
   "source": [
    "OpenCV also offers a `cv2.convexHull` function for obtaining processed contour\n",
    "information for convex shapes. This is a straightforward one-line expression:\n",
    "\n",
    "```Python\n",
    "hull = cv2.convexHull(cnt)\n",
    "```"
   ]
  },
  {
   "cell_type": "markdown",
   "id": "78d727e5",
   "metadata": {},
   "source": [
    "Let's combine the original contour, approximated polygon contour, and the convex hull\n",
    "into one image to observe the differences between them. To simplify things, we will draw\n",
    "the contours on top of a black background so that the original subject is not visible but its contours are:"
   ]
  },
  {
   "cell_type": "markdown",
   "id": "cfff3f28",
   "metadata": {},
   "source": [
    "```Python\n",
    "import cv2\n",
    "import numpy as np\n",
    "\n",
    "OPENCV_MAJOR_VERSION = int(cv2.__version__.split('.')[0])\n",
    "\n",
    "img = cv2.pyrDown(cv2.imread(\"hammer.jpg\", cv2.IMREAD_UNCHANGED))\n",
    "\n",
    "ret, thresh = cv2.threshold(cv2.cvtColor(img, cv2.COLOR_BGR2GRAY),\n",
    "                            127, 255, cv2.THRESH_BINARY)\n",
    "\n",
    "if OPENCV_MAJOR_VERSION >= 4:\n",
    "    # OpenCV 4 or a later version is being used.\n",
    "    contours, hier = cv2.findContours(thresh, cv2.RETR_EXTERNAL,\n",
    "                                      cv2.CHAIN_APPROX_SIMPLE)\n",
    "else:\n",
    "    # OpenCV 3 or an earlier version is being used.\n",
    "    # cv2.findContours has an extra return value.\n",
    "    # The extra return value is the thresholded image, which is\n",
    "    # unchanged, so we can ignore it.\n",
    "    _, contours, hier = cv2.findContours(thresh, cv2.RETR_EXTERNAL,\n",
    "                                         cv2.CHAIN_APPROX_SIMPLE)\n",
    "\n",
    "black = np.zeros_like(img)\n",
    "for cnt in contours:\n",
    "    epsilon = 0.01 * cv2.arcLength(cnt,True)\n",
    "    approx = cv2.approxPolyDP(cnt,epsilon,True)\n",
    "    hull = cv2.convexHull(cnt)\n",
    "    cv2.drawContours(black, [cnt], -1, (0, 255, 0), 2)\n",
    "    cv2.drawContours(black, [approx], -1, (255, 255, 0), 2)\n",
    "    cv2.drawContours(black, [hull], -1, (0, 0, 255), 2)\n",
    "\n",
    "cv2.imshow(\"hull\", black)\n",
    "cv2.waitKey()\n",
    "cv2.destroyAllWindows()\n",
    "```"
   ]
  },
  {
   "cell_type": "code",
   "execution_count": 18,
   "id": "107d0ae1",
   "metadata": {},
   "outputs": [],
   "source": [
    "import cv2\n",
    "import numpy as np\n",
    "\n",
    "OPENCV_MAJOR_VERSION = int(cv2.__version__.split('.')[0])\n",
    "\n",
    "img = cv2.pyrDown(cv2.imread(\"./pingu.png\", cv2.IMREAD_UNCHANGED))\n",
    "\n",
    "ret, thresh = cv2.threshold(cv2.cvtColor(img, cv2.COLOR_BGR2GRAY),\n",
    "                            127, 255, cv2.THRESH_BINARY)\n",
    "\n",
    "if OPENCV_MAJOR_VERSION >= 4:\n",
    "    # OpenCV 4 or a later version is being used.\n",
    "    contours, hier = cv2.findContours(thresh, cv2.RETR_EXTERNAL,\n",
    "                                      cv2.CHAIN_APPROX_SIMPLE)\n",
    "else:\n",
    "    # OpenCV 3 or an earlier version is being used.\n",
    "    # cv2.findContours has an extra return value.\n",
    "    # The extra return value is the thresholded image, which is\n",
    "    # unchanged, so we can ignore it.\n",
    "    _, contours, hier = cv2.findContours(thresh, cv2.RETR_EXTERNAL,\n",
    "                                         cv2.CHAIN_APPROX_SIMPLE)\n",
    "\n",
    "black = np.zeros_like(img)\n",
    "for cnt in contours:\n",
    "    epsilon = 0.01 * cv2.arcLength(cnt,True)\n",
    "    approx = cv2.approxPolyDP(cnt,epsilon,True)\n",
    "    hull = cv2.convexHull(cnt)\n",
    "    cv2.drawContours(black, [cnt], -1, (0, 255, 0), 2)\n",
    "    cv2.drawContours(black, [approx], -1, (255, 255, 0), 2)\n",
    "    cv2.drawContours(black, [hull], -1, (0, 0, 255), 2)\n",
    "\n",
    "cv2.imshow(\"hull\", black)\n",
    "cv2.waitKey()\n",
    "cv2.destroyAllWindows()"
   ]
  },
  {
   "cell_type": "markdown",
   "id": "d22960bd",
   "metadata": {},
   "source": [
    "# Detecting lines and circles."
   ]
  },
  {
   "cell_type": "markdown",
   "id": "9f30b4b3",
   "metadata": {},
   "source": [
    "## Detecting lines\n",
    "First of all, let's detect some lines. We can do this with either the `HoughLines` function or\n",
    "the `HoughLinesP` function. The former uses the standard Hough transform, while the latter\n",
    "uses the probabilistic Hough transform (hence the P in the name). The probabilistic version\n",
    "is so-called because it only analyzes a subset of the image's points and estimates the\n",
    "probability that these points all belong to the same line. This implementation is an\n",
    "optimized version of the standard Hough transform; it is less computationally intensive\n",
    "and executes faster. `HoughLinesP` is implemented so that it returns the two endpoints of\n",
    "each detected line segment, whereas `HoughLines` is implemented so that it returns a\n",
    "representation of each line as a single point and an angle, without information about\n",
    "endpoints."
   ]
  },
  {
   "cell_type": "markdown",
   "id": "27c216cc",
   "metadata": {},
   "source": [
    "```Python\n",
    "import cv2\n",
    "import numpy as np\n",
    "img = cv2.imread('houghlines5.jpg')\n",
    "gray = cv2.cvtColor(img, cv2.COLOR_BGR2GRAY)\n",
    "edges = cv2.Canny(gray, 50, 120)\n",
    "minLineLength = 20\n",
    "maxLineGap = 5\n",
    "lines = cv2.HoughLinesP(edges, 1, np.pi/180.0, 20,\n",
    "                        minLineLength, maxLineGap)\n",
    "for line in lines:\n",
    "    for x1, y1, x2, y2 in line:\n",
    "        cv2.line(img, (x1, y1), (x2, y2), (0,255,0),1)\n",
    "cv2.imshow(\"edges\", edges)\n",
    "cv2.imshow(\"lines\", img)\n",
    "cv2.waitKey()\n",
    "cv2.destroyAllWindows()\n",
    "```"
   ]
  },
  {
   "cell_type": "code",
   "execution_count": 19,
   "id": "bf5a2f51",
   "metadata": {},
   "outputs": [],
   "source": [
    "import cv2\n",
    "import numpy as np\n",
    "\n",
    "img = cv2.imread('./Gabriel Lima/18.jpeg')\n",
    "gray = cv2.cvtColor(img, cv2.COLOR_BGR2GRAY)\n",
    "edges = cv2.Canny(gray, 50, 120)\n",
    "minLineLength = 20\n",
    "maxLineGap = 5\n",
    "lines = cv2.HoughLinesP(edges, 1, np.pi/180.0, 20,\n",
    "                        minLineLength, maxLineGap)\n",
    "for line in lines:\n",
    "    for x1, y1, x2, y2 in line:\n",
    "        cv2.line(img, (x1, y1), (x2, y2), (0,255,0),1)\n",
    "cv2.imshow(\"edges\", edges)\n",
    "cv2.imshow(\"lines\", img)\n",
    "cv2.waitKey()\n",
    "cv2.destroyAllWindows()"
   ]
  },
  {
   "cell_type": "markdown",
   "id": "0be16763",
   "metadata": {},
   "source": [
    "## Detecting circles"
   ]
  },
  {
   "cell_type": "markdown",
   "id": "5626a60a",
   "metadata": {},
   "source": [
    "OpenCV also has a function for detecting circles, called `HoughCircles`. It works in a very\n",
    "similar fashion to `HoughLines`, but where `minLineLength` and `maxLineGap` were the\n",
    "parameters to be used to discard or retain lines, `HoughCircles` has a minimum distance\n",
    "between a circle's centers, as well as minimum and maximum values for a circle's radius.\n",
    "Here is the obligatory example:"
   ]
  },
  {
   "cell_type": "markdown",
   "id": "18702c74",
   "metadata": {},
   "source": [
    "```Python\n",
    "import cv2\n",
    "import numpy as np\n",
    "\n",
    "planets = cv2.imread('planet_glow.jpg')\n",
    "gray_img = cv2.cvtColor(planets, cv2.COLOR_BGR2GRAY)\n",
    "gray_img = cv2.medianBlur(gray_img, 5)\n",
    "\n",
    "circles = cv2.HoughCircles(gray_img,cv2.HOUGH_GRADIENT,1,120,\n",
    "                           param1=100,param2=30,minRadius=0,maxRadius=0)\n",
    "\n",
    "circles = np.uint16(np.around(circles))\n",
    "\n",
    "for i in circles[0,:]:\n",
    "    # draw the outer circle\n",
    "    cv2.circle(planets,(i[0],i[1]),i[2],(0,255,0),2)\n",
    "    # draw the center of the circle\n",
    "    cv2.circle(planets,(i[0],i[1]),2,(0,0,255),3)\n",
    "\n",
    "cv2.imwrite(\"planets_circles.jpg\", planets)\n",
    "cv2.imshow(\"HoughCirlces\", planets)\n",
    "cv2.waitKey()\n",
    "cv2.destroyAllWindows()\n",
    "```"
   ]
  },
  {
   "cell_type": "code",
   "execution_count": 20,
   "id": "4a9b6424",
   "metadata": {},
   "outputs": [],
   "source": [
    "import cv2\n",
    "import numpy as np\n",
    "\n",
    "planets = cv2.imread('./Gabriel Lima/15.jpeg')\n",
    "gray_img = cv2.cvtColor(planets, cv2.COLOR_BGR2GRAY)\n",
    "gray_img = cv2.medianBlur(gray_img, 5)\n",
    "\n",
    "circles = cv2.HoughCircles(gray_img,cv2.HOUGH_GRADIENT,1,120,\n",
    "                           param1=100,param2=30,minRadius=0,maxRadius=0)\n",
    "\n",
    "circles = np.uint16(np.around(circles))\n",
    "\n",
    "for i in circles[0,:]:\n",
    "    # draw the outer circle\n",
    "    cv2.circle(planets,(i[0],i[1]),i[2],(0,255,0),2)\n",
    "    # draw the center of the circle\n",
    "    cv2.circle(planets,(i[0],i[1]),2,(0,0,255),3)\n",
    "\n",
    "cv2.imwrite(\"./Gabriel Lima/10.jpeg\", planets)\n",
    "cv2.imshow(\"HoughCirlces\", planets)\n",
    "cv2.waitKey()\n",
    "cv2.destroyAllWindows()"
   ]
  },
  {
   "cell_type": "markdown",
   "id": "f9d3b62c",
   "metadata": {},
   "source": [
    "# Develop a new function for the cameo"
   ]
  },
  {
   "cell_type": "markdown",
   "id": "04e2eecd",
   "metadata": {},
   "source": [
    "In this function the cameo should be able to detect circles while using the webcan. Then it should highlight these circles in the same way as it did in detecting circles."
   ]
  },
  {
   "cell_type": "code",
   "execution_count": 21,
   "id": "12009216",
   "metadata": {},
   "outputs": [],
   "source": [
    "from managers import WindowManager, CaptureManager\n",
    "import cv2\n",
    "import numpy as np\n",
    "import matplotlib.pyplot as plt\n",
    "\n",
    "\n",
    "def detect_circles(image):\n",
    "    OPENCV_MAJOR_VERSION = int(cv2.__version__.split('.')[0])\n",
    "    # img = cv2.pyrDown(image, cv2.IMREAD_UNCHANGED)\n",
    "    img = image\n",
    "    ret, thresh = cv2.threshold(cv2.cvtColor(img, cv2.COLOR_BGR2GRAY),127, 255, cv2.THRESH_BINARY)\n",
    "    if OPENCV_MAJOR_VERSION >= 4:\n",
    "        contours, hier = cv2.findContours(thresh, cv2.RETR_EXTERNAL,cv2.CHAIN_APPROX_SIMPLE)\n",
    "    else:\n",
    "        _, contours, hier = cv2.findContours(thresh, cv2.RETR_EXTERNAL,cv2.CHAIN_APPROX_SIMPLE)\n",
    "    for c in contours:\n",
    "        # find bounding box coordinates\n",
    "        x, y, w, h = cv2.boundingRect(c)\n",
    "        cv2.rectangle(img, (x,y), (x+w, y+h), (0, 255, 0), 2)\n",
    "\n",
    "        # find minimum area\n",
    "        rect = cv2.minAreaRect(c)\n",
    "        # calculate coordinates of the minimum area rectangle\n",
    "        box = cv2.boxPoints(rect)\n",
    "        # normalize coordinates to integers\n",
    "        box = np.int0(box)\n",
    "        # draw contours\n",
    "        cv2.drawContours(img, [box], 0, (0,0, 255), 3)\n",
    "\n",
    "        # calculate center and radius of minimum enclosing circle\n",
    "        (x, y), radius = cv2.minEnclosingCircle(c)\n",
    "        # cast to integers\n",
    "        center = (int(x), int(y))\n",
    "        radius = int(radius)\n",
    "        # draw the circle\n",
    "        image = cv2.circle(img, center, radius, (0, 255, 0), 2)\n",
    "        cv2.drawContours(img, contours, -1, (255, 0, 0), 1)\n",
    "        return image\n",
    "\n",
    "class CameoDetector(object):\n",
    "    def __init__(self):\n",
    "        self._windowManager = WindowManager('Cameo',\n",
    "                                            self.onKeypress)\n",
    "        self._captureManager = CaptureManager(\n",
    "            cv2.VideoCapture(0), self._windowManager, True)\n",
    "\n",
    "    def run(self):\n",
    "        self._windowManager.createWindow()\n",
    "        while self._windowManager.isWindowCreated:\n",
    "            self._captureManager.enterFrame()\n",
    "            frame = self._captureManager.frame\n",
    "\n",
    "            if frame is not None:\n",
    "                cv2.merge(detect_circles(frame), frame)\n",
    "\n",
    "            self._captureManager.exitFrame()\n",
    "            self._windowManager.processEvents()\n",
    "\n",
    "    def onKeypress(self, keycode):\n",
    "        \"\"\"Handle a keypress.\n",
    "\n",
    "        space  -> Take a screenshot.\n",
    "        tab    -> Start/stop recording a screencast.\n",
    "        escape -> Quit.\n",
    "\n",
    "        \"\"\"\n",
    "        if keycode == 32: # space\n",
    "            self._captureManager.writeImage('screenshot.png')\n",
    "            self._captureManager.startWritingVideo(\n",
    "                    'screencast.avi')\n",
    "        elif keycode == 9: # tab\n",
    "            if not self._captureManager.isWritingVideo:\n",
    "                self._captureManager.startWritingVideo(\n",
    "                    'screencas.avi')\n",
    "            else:\n",
    "                self._captureManager.stopWritingVideo()\n",
    "        elif keycode == 27: # escape\n",
    "            self._captureManager.close_can()\n",
    "            self._windowManager.destroyWindow()\n",
    "\n",
    "c = CameoDetector()\n",
    "c.run()"
   ]
  }
 ],
 "metadata": {
  "kernelspec": {
   "display_name": "Python 3.9.13 ('callidus-cv')",
   "language": "python",
   "name": "python3"
  },
  "language_info": {
   "codemirror_mode": {
    "name": "ipython",
    "version": 3
   },
   "file_extension": ".py",
   "mimetype": "text/x-python",
   "name": "python",
   "nbconvert_exporter": "python",
   "pygments_lexer": "ipython3",
   "version": "3.9.13"
  },
  "vscode": {
   "interpreter": {
    "hash": "e871e567c85ac8686e1755fe74d76da72b2597ddc61e8eaef6056a778b137193"
   }
  }
 },
 "nbformat": 4,
 "nbformat_minor": 5
}
